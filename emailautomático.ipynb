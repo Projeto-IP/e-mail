{
  "nbformat": 4,
  "nbformat_minor": 0,
  "metadata": {
    "colab": {
      "provenance": [],
      "authorship_tag": "ABX9TyP7Cliu8tdGk0nBd12zInYu",
      "include_colab_link": true
    },
    "kernelspec": {
      "name": "python3",
      "display_name": "Python 3"
    },
    "language_info": {
      "name": "python"
    }
  },
  "cells": [
    {
      "cell_type": "markdown",
      "metadata": {
        "id": "view-in-github",
        "colab_type": "text"
      },
      "source": [
        "<a href=\"https://colab.research.google.com/github/Projeto-IP/e-mail/blob/main/emailautom%C3%A1tico.ipynb\" target=\"_parent\"><img src=\"https://colab.research.google.com/assets/colab-badge.svg\" alt=\"Open In Colab\"/></a>"
      ]
    },
    {
      "cell_type": "code",
      "execution_count": null,
      "metadata": {
        "id": "focQsvtLsAkl"
      },
      "outputs": [],
      "source": [
        "#Importar bibliotecas para mandar e-mail\n",
        "import smtplib\n",
        "import email.message\n",
        "\n",
        "#Criar função que envia e edita o e-mail\n",
        "def enviar_email():\n",
        "    #Corpo de texto do e-mail que foi escrito em html\n",
        "    corpo_email = \"\"\"\n",
        "    <p>Olá Sr. Repositor</p>\n",
        "    <p>O lote de Coca-cola da 14ª prateleira acabou, por favor repôr o quanto antes!!!</p>\n",
        "    \"\"\"\n",
        "\n",
        "    msg = email.message.Message()\n",
        "    msg['Subject'] = \"Reposição de bebidas\" #Editar o que vem no assunto do email\n",
        "    msg['From'] = 'envia@gmail.com' #Quem envia o email\n",
        "    msg['To'] = 'recebe@gmail.com'#Quem vai receber o email, se tiver mais de um é só colocar vírgula\n",
        "    password = 'senha_aleatória' #Senha aleatória gerada em senha de app no email\n",
        "    msg.add_header('Content-Type', 'text/html')\n",
        "    msg.set_payload(corpo_email )\n",
        "\n",
        "    s = smtplib.SMTP('smtp.gmail.com: 587')\n",
        "    s.starttls()\n",
        "    # Login Credentials for sending the mail\n",
        "    s.login(msg['From'], password)\n",
        "    s.sendmail(msg['From'], [msg['To']], msg.as_string().encode('utf-8'))\n",
        "    print('Email enviado')\n",
        "enviar_email()"
      ]
    },
    {
      "cell_type": "code",
      "source": [],
      "metadata": {
        "id": "NVNFvefG0KwI"
      },
      "execution_count": null,
      "outputs": []
    }
  ]
}